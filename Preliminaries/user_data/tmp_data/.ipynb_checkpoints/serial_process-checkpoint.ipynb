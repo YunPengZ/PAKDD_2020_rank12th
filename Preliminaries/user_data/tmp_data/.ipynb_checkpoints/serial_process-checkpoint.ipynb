{
 "cells": [
  {
   "cell_type": "code",
   "execution_count": 1,
   "metadata": {
    "collapsed": true
   },
   "outputs": [],
   "source": [
    "%matplotlib inline\n",
    "\n",
    "import pandas as pd\n",
    "import numpy as np\n",
    "import os\n",
    "import copy \n",
    "import gc\n",
    "from tqdm import tqdm\n",
    "import lightgbm as lgb\n",
    "# from lightgbm import LGBMClassifier\n",
    "from sklearn.model_selection import StratifiedKFold\n",
    "from sklearn import metrics\n",
    "import warnings\n",
    "import matplotlib.pyplot as plt\n",
    "import math\n",
    "from datetime import datetime\n",
    "# import seaborn as sns\n",
    "from scipy.special import boxcox1p\n",
    "from scipy.stats import boxcox_normmax\n",
    "\n",
    "pd.set_option('display.max_columns', 100)\n",
    "warnings.filterwarnings('ignore')"
   ]
  },
  {
   "cell_type": "code",
   "execution_count": 4,
   "metadata": {
    "collapsed": false
   },
   "outputs": [],
   "source": [
    "def get_first_time_df(file_dir):\n",
    "    chunk_size = 1e6\n",
    "    print(file_dir)\n",
    "    df = pd.read_csv(file_dir,iterator = True)\n",
    "    res_df = []\n",
    "    while True:\n",
    "        try:\n",
    "            t = df.get_chunk(chunk_size)\n",
    "            na_t = t.isna().all()\n",
    "            inna_t = na_t[na_t==False]\n",
    "            print(len(inna_t))\n",
    "            res = t[inna_t.index]\n",
    "            res_df.append(res)\n",
    "        except:\n",
    "            break\n",
    "    df = pd.concat(res_df,ignore_index = True)\n",
    "    df = df.sort_values('dt').drop_duplicates(['serial_number','model'])#所有磁盘保留第一次出现的记录\n",
    "    return df"
   ]
  },
  {
   "cell_type": "code",
   "execution_count": null,
   "metadata": {
    "collapsed": true
   },
   "outputs": [],
   "source": [
    "###需要data数据中有全部的数据集\n",
    "df_list = []\n",
    "for i in range(7):\n",
    "    month = i+1\n",
    "    file_dir = '../data/disk_sample_smart_log_2018%02d.csv' % month\n",
    "    df_list.append(get_first_time_df(file_dir))\n",
    "for i in range(6):\n",
    "    month = i+7\n",
    "    file_dir = '../data/disk_sample_smart_log_2017%02d.csv' % month#分别处理2017年和2018年的数据\n",
    "    df_list.append(get_first_time_df(file_dir))\n",
    "file_dir_test_a = '../data/disk_sample_smart_log_test_a.csv'\n",
    "file_dir_test_b = '../data/disk_sample_smart_log_test_b.csv'\n",
    "df_list.append(get_first_time_df(file_dir_test_a))\n",
    "df_list.append(get_first_time_df(file_dir_test_b))"
   ]
  },
  {
   "cell_type": "code",
   "execution_count": null,
   "metadata": {
    "collapsed": true
   },
   "outputs": [],
   "source": [
    "res = pd.concat(df_list).reset_index(drop=True)\n",
    "res = res.sort_values('dt').drop_duplicates(['serial_number','model'])\n",
    "res['first_time'] = pd.to_datetime(res['dt'],format='%Y%m%d')\n",
    "res = res[['serial_number','model','first_time']]\n",
    "res.to_csv('./serial_v2.csv',index=None, header=None,encoding = 'utf-8'))"
   ]
  }
 ],
 "metadata": {
  "anaconda-cloud": {},
  "kernelspec": {
   "display_name": "Python [default]",
   "language": "python",
   "name": "python3"
  },
  "language_info": {
   "codemirror_mode": {
    "name": "ipython",
    "version": 3
   },
   "file_extension": ".py",
   "mimetype": "text/x-python",
   "name": "python",
   "nbconvert_exporter": "python",
   "pygments_lexer": "ipython3",
   "version": "3.5.5"
  }
 },
 "nbformat": 4,
 "nbformat_minor": 1
}
