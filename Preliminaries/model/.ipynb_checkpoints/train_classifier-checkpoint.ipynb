{
 "cells": [
  {
   "cell_type": "code",
   "execution_count": 2,
   "metadata": {
    "collapsed": true
   },
   "outputs": [],
   "source": [
    "%matplotlib inline\n",
    "\n",
    "import pandas as pd\n",
    "import numpy as np\n",
    "import os\n",
    "import copy \n",
    "import gc\n",
    "from tqdm import tqdm\n",
    "import lightgbm as lgb\n",
    "from lightgbm import LGBMClassifier\n",
    "from sklearn.model_selection import KFold,StratifiedKFold\n",
    "from sklearn import metrics\n",
    "import warnings\n",
    "import matplotlib.pyplot as plt\n",
    "import math\n",
    "from datetime import datetime\n",
    "from sklearn.metrics import roc_auc_score\n",
    "# import seaborn as sns\n",
    "pd.set_option('display.max_columns', 100)\n",
    "warnings.filterwarnings('ignore')"
   ]
  },
  {
   "cell_type": "code",
   "execution_count": 3,
   "metadata": {
    "collapsed": true
   },
   "outputs": [],
   "source": [
    "def get_unique_id(df):\n",
    "    df['unique_id'] = df['serial_number'].map(str)+'_'+df['model'].map(str)\n",
    "    return df"
   ]
  },
  {
   "cell_type": "code",
   "execution_count": 4,
   "metadata": {
    "collapsed": true
   },
   "outputs": [],
   "source": [
    "def time_to_first(df):\n",
    "    df['time_to_first'] = (df['dt']-df['first_time']).dt.days\n",
    "    return df"
   ]
  },
  {
   "cell_type": "code",
   "execution_count": 5,
   "metadata": {
    "collapsed": false
   },
   "outputs": [],
   "source": [
    "serial = pd.read_csv('../user_data/tmp_data/serial_v2.csv')\n",
    "serial = serial[['serial_number','model','first_time']]"
   ]
  },
  {
   "cell_type": "code",
   "execution_count": 10,
   "metadata": {
    "collapsed": false
   },
   "outputs": [],
   "source": [
    "df_1806 = pd.read_csv('../user_data/tmp_data/train_data/test_06.csv')"
   ]
  },
  {
   "cell_type": "code",
   "execution_count": 26,
   "metadata": {
    "collapsed": true
   },
   "outputs": [],
   "source": [
    "df_1806['dt'] = pd.to_datetime(df_1806['dt'])#,format='%Y%m%d')\n",
    "df_1806 = df_1806.merge(serial,on=['serial_number','model'],how='left')\n",
    "df_1806['first_time'] = pd.to_datetime(df_1806['first_time'])\n",
    "df_1806 = time_to_first(df_1806)"
   ]
  },
  {
   "cell_type": "code",
   "execution_count": null,
   "metadata": {
    "collapsed": true
   },
   "outputs": [],
   "source": [
    "use_feas"
   ]
  },
  {
   "cell_type": "code",
   "execution_count": null,
   "metadata": {
    "collapsed": true
   },
   "outputs": [],
   "source": [
    "#训练集和验证集\n",
    "use_feas = [fea for fea in df_1806.columns if 'smart' in fea]\n",
    "drop_cols = ['smart_3raw','smart_10raw','smart_240_normalized','smart_242_normalized','smart_241_normalized']\n",
    "use_feas = [fea for fea in use_feas if fea not in drop_cols]\n",
    "use_feas.append('time_to_first')"
   ]
  },
  {
   "cell_type": "code",
   "execution_count": null,
   "metadata": {
    "collapsed": true
   },
   "outputs": [],
   "source": [
    "test = pd.read_csv('./comb/test_v3.csv')\n",
    "test['dt'] = pd.to_datetime(test['dt'])#,format=\"%Y%m%d\")\n",
    "test = test.merge(serial,on=['serial_number','model'],how='left')\n",
    "test['first_time'] = pd.to_datetime(test['first_time'])\n",
    "test = time_to_first(test)"
   ]
  },
  {
   "cell_type": "code",
   "execution_count": 13,
   "metadata": {
    "collapsed": true
   },
   "outputs": [],
   "source": [
    "target = 'get_fault_in_30_days'"
   ]
  },
  {
   "cell_type": "code",
   "execution_count": 38,
   "metadata": {
    "collapsed": false
   },
   "outputs": [],
   "source": [
    "mean_feas = [fea for fea in use_feas if 'mean' in fea]"
   ]
  },
  {
   "cell_type": "code",
   "execution_count": 40,
   "metadata": {
    "collapsed": false
   },
   "outputs": [],
   "source": [
    "diff_feas = [fea for fea in use_feas if 'diff' in fea and 'smart_1_' not in fea]"
   ]
  },
  {
   "cell_type": "code",
   "execution_count": 48,
   "metadata": {
    "collapsed": true
   },
   "outputs": [],
   "source": [
    "old_feas = [fea for fea in use_feas if 'normalized_' not in fea and 'raw_' not in fea and 'smart_1_' not in fea and 'smart_1raw' not in fea]"
   ]
  },
  {
   "cell_type": "code",
   "execution_count": null,
   "metadata": {
    "collapsed": true
   },
   "outputs": [],
   "source": [
    "use_feas = old_feas+diff_feas+mean_feas"
   ]
  },
  {
   "cell_type": "code",
   "execution_count": null,
   "metadata": {
    "collapsed": true
   },
   "outputs": [],
   "source": [
    "use_feas"
   ]
  },
  {
   "cell_type": "code",
   "execution_count": null,
   "metadata": {
    "collapsed": false
   },
   "outputs": [
    {
     "name": "stdout",
     "output_type": "stream",
     "text": [
      "[50]\tvalid_0's auc: 0.837911\n",
      "[100]\tvalid_0's auc: 0.869136\n"
     ]
    },
    {
     "data": {
      "text/plain": [
       "LGBMClassifier(boosting_type='gbdt', class_weight=None, colsample_bytree=0.8,\n",
       "        importance_type='split', is_unbalenced='True', learning_rate=0.001,\n",
       "        max_depth=-1, metric=None, min_child_samples=20,\n",
       "        min_child_weight=0.001, min_split_gain=0.0, n_estimators=115,\n",
       "        n_jobs=-1, num_leaves=127, objective=None, random_state=2019,\n",
       "        reg_alpha=0.0, reg_lambda=0.0, silent=True, subsample=0.8,\n",
       "        subsample_for_bin=200000, subsample_freq=0)"
      ]
     },
     "execution_count": 53,
     "metadata": {},
     "output_type": "execute_result"
    }
   ],
   "source": [
    "#寻找原始数据的能提分的组合\n",
    "clf_res = LGBMClassifier(\n",
    "    learning_rate=0.001,\n",
    "    n_estimators=115,\n",
    "    num_leaves=127,\n",
    "    subsample=0.8,\n",
    "    colsample_bytree=0.8,\n",
    "    random_state=2019,\n",
    "    is_unbalenced = 'True',\n",
    "    metric=None\n",
    ")\n",
    "clf_res.fit(\n",
    "        df_1806[use_feas], df_1806[target],\n",
    "        eval_metric='auc',\n",
    "        eval_set=[(df_1806[use_feas],df_1806[target])],\n",
    "#         early_stopping_rounds=50,\n",
    "        verbose=50\n",
    ")"
   ]
  },
  {
   "cell_type": "code",
   "execution_count": null,
   "metadata": {
    "collapsed": true
   },
   "outputs": [],
   "source": [
    "clf_pred = clf_res.predict_proba(test[use_feas])[:,1]"
   ]
  },
  {
   "cell_type": "code",
   "execution_count": 367,
   "metadata": {
    "collapsed": false
   },
   "outputs": [],
   "source": [
    "threshold = 0.00866\n",
    "res = test.copy()\n",
    "res['pred'] = clf_pred#RF+规则\n",
    "res['manu'] = 'A'\n",
    "res = res[['manu','model','serial_number','pred','dt']]\n",
    "res = res[res.model==2]\n",
    "res = res[res.pred>threshold]\n",
    "res = res.sort_values('dt').drop_duplicates(['serial_number','model'])\n",
    "res = res.drop('pred',axis=1)"
   ]
  },
  {
   "cell_type": "code",
   "execution_count": 369,
   "metadata": {
    "collapsed": true
   },
   "outputs": [],
   "source": [
    "res.to_csv('../prediction_result/predictions.csv',index=None, header=None,encoding = 'utf-8')"
   ]
  },
  {
   "cell_type": "code",
   "execution_count": null,
   "metadata": {
    "collapsed": true
   },
   "outputs": [],
   "source": []
  }
 ],
 "metadata": {
  "anaconda-cloud": {},
  "kernelspec": {
   "display_name": "Python [default]",
   "language": "python",
   "name": "python3"
  },
  "language_info": {
   "codemirror_mode": {
    "name": "ipython",
    "version": 3
   },
   "file_extension": ".py",
   "mimetype": "text/x-python",
   "name": "python",
   "nbconvert_exporter": "python",
   "pygments_lexer": "ipython3",
   "version": "3.5.5"
  }
 },
 "nbformat": 4,
 "nbformat_minor": 2
}
